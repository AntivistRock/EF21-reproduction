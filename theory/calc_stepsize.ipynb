{
 "cells": [
  {
   "cell_type": "markdown",
   "metadata": {},
   "source": [
    "## Computation of stepsizes for datasets"
   ]
  },
  {
   "cell_type": "markdown",
   "metadata": {},
   "source": [
    "### General theory"
   ]
  },
  {
   "cell_type": "markdown",
   "metadata": {},
   "source": [
    "Since we are considering logistic regression (in terms of minimizing cross-entropy) with a (non-convex) regularizer, let's estimate it's L-Lipschitz constat."
   ]
  },
  {
   "cell_type": "markdown",
   "metadata": {},
   "source": [
    "Our goal is to  \n",
    "\n",
    "\\begin{equation}\n",
    "\\min_{x \\in \\mathbb{R}^d} \\left[ f(x) = \\frac{1}{n} \\sum\\limits_{i=1}^n \\ell_x(a_i, b_i) + \\sum\\limits_{j=1}^{d} \\frac{x_j^2}{1 + x_j^2} \\right],\n",
    "\\end{equation}\n",
    "\n",
    "where  \n",
    "\\begin{equation}\n",
    "\\ell_x(a_i, b_i) = -b_i \\ln(p(x^Ta_i)) - (1 - b_i) \\ln(1 - p(x^Ta_i)),\n",
    "\\end{equation}\n",
    "\n",
    "and\n",
    "\\begin{equation}\n",
    "p(x^Ta_i) = \\frac{1}{1 + \\exp(-x^T a_i)}.\n",
    "\\end{equation}"
   ]
  },
  {
   "cell_type": "markdown",
   "metadata": {},
   "source": [
    "It could be shoun, that\n",
    "\n",
    "\\begin{equation}\n",
    "L = \\frac{1}{4n} \\lambda_{\\max}(A^T A) + 2\\lambda,\n",
    "\\end{equation}\n",
    "\n",
    "where $\\lambda = 0.1$ according to the paper"
   ]
  },
  {
   "cell_type": "code",
   "execution_count": 8,
   "metadata": {},
   "outputs": [
    {
     "name": "stdout",
     "output_type": "stream",
     "text": [
      "The autoreload extension is already loaded. To reload it, use:\n",
      "  %reload_ext autoreload\n"
     ]
    }
   ],
   "source": [
    "%load_ext autoreload\n",
    "%autoreload 2\n",
    "\n",
    "import torch\n",
    "import numpy as np\n",
    "import sys\n",
    "sys.path.append('../')\n",
    "\n",
    "from src.data_utils.utils import compute_gamma, load_mushrooms, load_a9a"
   ]
  },
  {
   "cell_type": "markdown",
   "metadata": {},
   "source": [
    "Let's also define:  \n",
    "$\\theta=1 - \\sqrt{1 - \\alpha}$;  \n",
    "$\\beta= \\frac{1-\\alpha}{1 - \\sqrt{1 - \\alpha}}$,  \n",
    "\n",
    "assuming the use of a Top-k compressor. According to [paper](https://arxiv.org/pdf/2002.12410) (table 3) Top-k $\\in \\mathbb{B}(k/d)$."
   ]
  },
  {
   "cell_type": "code",
   "execution_count": 9,
   "metadata": {},
   "outputs": [],
   "source": [
    "# set the k for Top-k\n",
    "k = 1"
   ]
  },
  {
   "cell_type": "markdown",
   "metadata": {},
   "source": [
    "#### Mushrooms"
   ]
  },
  {
   "cell_type": "code",
   "execution_count": 10,
   "metadata": {},
   "outputs": [
    {
     "data": {
      "text/plain": [
       "0.0022592220921069384"
      ]
     },
     "execution_count": 10,
     "metadata": {},
     "output_type": "execute_result"
    }
   ],
   "source": [
    "dataset = load_mushrooms()\n",
    "compute_gamma(dataset, k)\n"
   ]
  },
  {
   "cell_type": "markdown",
   "metadata": {},
   "source": [
    "#### a9a"
   ]
  },
  {
   "cell_type": "code",
   "execution_count": 11,
   "metadata": {},
   "outputs": [
    {
     "data": {
      "text/plain": [
       "0.00323984632268548"
      ]
     },
     "execution_count": 11,
     "metadata": {},
     "output_type": "execute_result"
    }
   ],
   "source": [
    "dataset = load_a9a()\n",
    "compute_gamma(dataset, k)"
   ]
  }
 ],
 "metadata": {
  "kernelspec": {
   "display_name": "edu",
   "language": "python",
   "name": "python3"
  },
  "language_info": {
   "codemirror_mode": {
    "name": "ipython",
    "version": 3
   },
   "file_extension": ".py",
   "mimetype": "text/x-python",
   "name": "python",
   "nbconvert_exporter": "python",
   "pygments_lexer": "ipython3",
   "version": "3.12.3"
  }
 },
 "nbformat": 4,
 "nbformat_minor": 2
}
